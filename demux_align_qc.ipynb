{
 "cells": [
  {
   "cell_type": "markdown",
   "metadata": {},
   "source": [
    "# Demux and Alignment QC\n",
    "This notebook is for QC-ing the demux and alignment of sequencing runs. It is layouted out run through a list of 'run_ids' and find the fastqs, alignment files, and dropouts."
   ]
  },
  {
   "cell_type": "markdown",
   "metadata": {},
   "source": [
    "# Imports"
   ]
  },
  {
   "cell_type": "code",
   "execution_count": 259,
   "metadata": {},
   "outputs": [],
   "source": [
    "import csv\n",
    "import os\n",
    "import utilities.s3_util as s3_util\n",
    "import itertools\n",
    "import pandas as pd\n",
    "\n",
    "from collections import defaultdict, Counter\n"
   ]
  },
  {
   "cell_type": "markdown",
   "metadata": {},
   "source": [
    "# Count Files in S3 by Sequencing Run"
   ]
  },
  {
   "cell_type": "markdown",
   "metadata": {},
   "source": [
    "Make a list of all experiment IDS in a given bucket. "
   ]
  },
  {
   "cell_type": "code",
   "execution_count": 100,
   "metadata": {},
   "outputs": [],
   "source": [
    "run_ids1 = ['180705_A00111_0170_BH5LTFDSXX',\n",
    "'180719_A00111_0174_AH725LDSXX',\n",
    "'180727_A00111_0178_AH72YWDSXX',\n",
    "'180813_A00111_0188_AH7G2FDSXX',\n",
    "'180822_A00111_0194_AH7HCMDSXX',\n",
    "'180822_A00111_0195_BH7JT3DSXX',\n",
    "'180831_A00111_0201_BH7WGCDSXX',\n",
    "'180911_A00111_0207_BHC7KNDSXX',\n",
    "'180911_A00111_0208_AH7VGKDSXX',\n",
    "'180918_A00111_0213_BHGKTWDMXX']"
   ]
  },
  {
   "cell_type": "markdown",
   "metadata": {},
   "source": [
    "## QC Runs in `run1`"
   ]
  },
  {
   "cell_type": "code",
   "execution_count": 121,
   "metadata": {},
   "outputs": [],
   "source": [
    "runs1 = pd.DataFrame(index=run_ids1, columns = ['nCells_Demux', 'nFastqs/cell' , 'nAligment_Files', 'nCells_Aligned', 'Alignment_Dropout', 'nIncomplete_Alignment'])"
   ]
  },
  {
   "cell_type": "code",
   "execution_count": 120,
   "metadata": {
    "scrolled": true
   },
   "outputs": [
    {
     "data": {
      "text/html": [
       "<div>\n",
       "<style scoped>\n",
       "    .dataframe tbody tr th:only-of-type {\n",
       "        vertical-align: middle;\n",
       "    }\n",
       "\n",
       "    .dataframe tbody tr th {\n",
       "        vertical-align: top;\n",
       "    }\n",
       "\n",
       "    .dataframe thead th {\n",
       "        text-align: right;\n",
       "    }\n",
       "</style>\n",
       "<table border=\"1\" class=\"dataframe\">\n",
       "  <thead>\n",
       "    <tr style=\"text-align: right;\">\n",
       "      <th></th>\n",
       "      <th>nCells_Demux</th>\n",
       "      <th>nFastqs/cell</th>\n",
       "      <th>nAligment_Files</th>\n",
       "      <th>nCells_Aligned</th>\n",
       "      <th>Alignment_Dropout</th>\n",
       "    </tr>\n",
       "  </thead>\n",
       "  <tbody>\n",
       "    <tr>\n",
       "      <th>180705_A00111_0170_BH5LTFDSXX</th>\n",
       "      <td>6321</td>\n",
       "      <td>{2}</td>\n",
       "      <td>31525</td>\n",
       "      <td>6305</td>\n",
       "      <td>16</td>\n",
       "    </tr>\n",
       "    <tr>\n",
       "      <th>180719_A00111_0174_AH725LDSXX</th>\n",
       "      <td>7030</td>\n",
       "      <td>{2}</td>\n",
       "      <td>35055</td>\n",
       "      <td>7011</td>\n",
       "      <td>19</td>\n",
       "    </tr>\n",
       "  </tbody>\n",
       "</table>\n",
       "</div>"
      ],
      "text/plain": [
       "                              nCells_Demux nFastqs/cell nAligment_Files  \\\n",
       "180705_A00111_0170_BH5LTFDSXX         6321          {2}           31525   \n",
       "180719_A00111_0174_AH725LDSXX         7030          {2}           35055   \n",
       "\n",
       "                              nCells_Aligned Alignment_Dropout  \n",
       "180705_A00111_0170_BH5LTFDSXX           6305                16  \n",
       "180719_A00111_0174_AH725LDSXX           7011                19  "
      ]
     },
     "execution_count": 120,
     "metadata": {},
     "output_type": "execute_result"
    }
   ],
   "source": [
    "runs1.head(2)"
   ]
  },
  {
   "cell_type": "markdown",
   "metadata": {},
   "source": [
    "Crawl through AWS and count all the files to assess if any alignment seriously failed. \n",
    "\n",
    "Get the samples from the folder of fastq files. The second `for loop` is getting all of the filenames from `bucket` that start with the specified prefix (i.e. the fastqs for this experiment). The first line is taking those filenames, removing the folders (using `basename`), and then splitting from the right on '_' to get the sample name.\n",
    "  \n",
    "We'll use a Counter to a) remove duplicates and b) make sure we have two of everything. This same strategy counts alignment files and find cells with less than the expected 5 alignment files."
   ]
  },
  {
   "cell_type": "code",
   "execution_count": 106,
   "metadata": {},
   "outputs": [],
   "source": [
    "for run in run_ids1:\n",
    "    #Count the number of cells that demuxed in S3 using their basename\n",
    "    samples = Counter(os.path.basename(fn).rsplit('_', 2)[0] \n",
    "                  for fn in s3_util.get_files(\n",
    "                      bucket='czb-maca',\n",
    "                      prefix=f'Plate_seq/24_month/{run}/fastqs'))\n",
    "    \n",
    "    #Append that number in the df at the location of run_id\n",
    "    runs1.loc[run,'nCells_Demux'] = len(samples) \n",
    "    runs1.loc[run,'nFastqs/cell'] = set(samples.values()) \n",
    "    \n",
    "    #Count the number of alignment files in S3 using \n",
    "    alignment_files = [os.path.basename(fn)\n",
    "                   for fn in s3_util.get_files(\n",
    "                       bucket='czb-maca',\n",
    "                       prefix=f'Plate_seq/24_month/{run}/results_new_aegea')]\n",
    "    \n",
    "    #Append append the number of aligned files, aligned cells, and the dropout in the df at the location of run_id\n",
    "    runs1.loc[run,'nAligment_Files'] = len(alignment_files) \n",
    "    runs1.loc[run,'nCells_Aligned'] = len(alignment_files)/5\n",
    "    runs1.loc[run,'Alignment_Dropout'] = len(samples) - len(alignment_files)/5\n",
    "    \n",
    "    #Count if there are any cells with less than 5 alignment files (incomplete alignment)\n",
    "    sample_count = Counter(fn.split('.', 2)[0] for fn in alignment_files)\n",
    "    inc = [s for s in sample_count if sample_count[s] < 5]\n",
    "    runs1.loc[run,'Alignment_Dropout'] = len(inc) "
   ]
  },
  {
   "cell_type": "code",
   "execution_count": 107,
   "metadata": {
    "scrolled": true
   },
   "outputs": [
    {
     "data": {
      "text/html": [
       "<div>\n",
       "<style scoped>\n",
       "    .dataframe tbody tr th:only-of-type {\n",
       "        vertical-align: middle;\n",
       "    }\n",
       "\n",
       "    .dataframe tbody tr th {\n",
       "        vertical-align: top;\n",
       "    }\n",
       "\n",
       "    .dataframe thead th {\n",
       "        text-align: right;\n",
       "    }\n",
       "</style>\n",
       "<table border=\"1\" class=\"dataframe\">\n",
       "  <thead>\n",
       "    <tr style=\"text-align: right;\">\n",
       "      <th></th>\n",
       "      <th>nCells_Demux</th>\n",
       "      <th>nFastqs/cell</th>\n",
       "      <th>nAligment_Files</th>\n",
       "      <th>nCells_Aligned</th>\n",
       "      <th>Alignment_Dropout</th>\n",
       "    </tr>\n",
       "  </thead>\n",
       "  <tbody>\n",
       "    <tr>\n",
       "      <th>180705_A00111_0170_BH5LTFDSXX</th>\n",
       "      <td>6321</td>\n",
       "      <td>{2}</td>\n",
       "      <td>31525</td>\n",
       "      <td>6305</td>\n",
       "      <td>16</td>\n",
       "    </tr>\n",
       "    <tr>\n",
       "      <th>180719_A00111_0174_AH725LDSXX</th>\n",
       "      <td>7030</td>\n",
       "      <td>{2}</td>\n",
       "      <td>35055</td>\n",
       "      <td>7011</td>\n",
       "      <td>19</td>\n",
       "    </tr>\n",
       "    <tr>\n",
       "      <th>180727_A00111_0178_AH72YWDSXX</th>\n",
       "      <td>7024</td>\n",
       "      <td>{2}</td>\n",
       "      <td>35010</td>\n",
       "      <td>7002</td>\n",
       "      <td>22</td>\n",
       "    </tr>\n",
       "    <tr>\n",
       "      <th>180813_A00111_0188_AH7G2FDSXX</th>\n",
       "      <td>6993</td>\n",
       "      <td>{2}</td>\n",
       "      <td>33620</td>\n",
       "      <td>6724</td>\n",
       "      <td>269</td>\n",
       "    </tr>\n",
       "    <tr>\n",
       "      <th>180822_A00111_0194_AH7HCMDSXX</th>\n",
       "      <td>7008</td>\n",
       "      <td>{2}</td>\n",
       "      <td>34960</td>\n",
       "      <td>6992</td>\n",
       "      <td>16</td>\n",
       "    </tr>\n",
       "    <tr>\n",
       "      <th>180822_A00111_0195_BH7JT3DSXX</th>\n",
       "      <td>7020</td>\n",
       "      <td>{2}</td>\n",
       "      <td>34515</td>\n",
       "      <td>6903</td>\n",
       "      <td>117</td>\n",
       "    </tr>\n",
       "    <tr>\n",
       "      <th>180831_A00111_0201_BH7WGCDSXX</th>\n",
       "      <td>7677</td>\n",
       "      <td>{2}</td>\n",
       "      <td>34165</td>\n",
       "      <td>6833</td>\n",
       "      <td>844</td>\n",
       "    </tr>\n",
       "    <tr>\n",
       "      <th>180911_A00111_0207_BHC7KNDSXX</th>\n",
       "      <td>6321</td>\n",
       "      <td>{2}</td>\n",
       "      <td>30545</td>\n",
       "      <td>6109</td>\n",
       "      <td>212</td>\n",
       "    </tr>\n",
       "    <tr>\n",
       "      <th>180911_A00111_0208_AH7VGKDSXX</th>\n",
       "      <td>348</td>\n",
       "      <td>{2}</td>\n",
       "      <td>1740</td>\n",
       "      <td>348</td>\n",
       "      <td>0</td>\n",
       "    </tr>\n",
       "    <tr>\n",
       "      <th>180918_A00111_0213_BHGKTWDMXX</th>\n",
       "      <td>1774</td>\n",
       "      <td>{2}</td>\n",
       "      <td>8835</td>\n",
       "      <td>1767</td>\n",
       "      <td>7</td>\n",
       "    </tr>\n",
       "  </tbody>\n",
       "</table>\n",
       "</div>"
      ],
      "text/plain": [
       "                              nCells_Demux nFastqs/cell nAligment_Files  \\\n",
       "180705_A00111_0170_BH5LTFDSXX         6321          {2}           31525   \n",
       "180719_A00111_0174_AH725LDSXX         7030          {2}           35055   \n",
       "180727_A00111_0178_AH72YWDSXX         7024          {2}           35010   \n",
       "180813_A00111_0188_AH7G2FDSXX         6993          {2}           33620   \n",
       "180822_A00111_0194_AH7HCMDSXX         7008          {2}           34960   \n",
       "180822_A00111_0195_BH7JT3DSXX         7020          {2}           34515   \n",
       "180831_A00111_0201_BH7WGCDSXX         7677          {2}           34165   \n",
       "180911_A00111_0207_BHC7KNDSXX         6321          {2}           30545   \n",
       "180911_A00111_0208_AH7VGKDSXX          348          {2}            1740   \n",
       "180918_A00111_0213_BHGKTWDMXX         1774          {2}            8835   \n",
       "\n",
       "                              nCells_Aligned Alignment_Dropout  \n",
       "180705_A00111_0170_BH5LTFDSXX           6305                16  \n",
       "180719_A00111_0174_AH725LDSXX           7011                19  \n",
       "180727_A00111_0178_AH72YWDSXX           7002                22  \n",
       "180813_A00111_0188_AH7G2FDSXX           6724               269  \n",
       "180822_A00111_0194_AH7HCMDSXX           6992                16  \n",
       "180822_A00111_0195_BH7JT3DSXX           6903               117  \n",
       "180831_A00111_0201_BH7WGCDSXX           6833               844  \n",
       "180911_A00111_0207_BHC7KNDSXX           6109               212  \n",
       "180911_A00111_0208_AH7VGKDSXX            348                 0  \n",
       "180918_A00111_0213_BHGKTWDMXX           1767                 7  "
      ]
     },
     "execution_count": 107,
     "metadata": {},
     "output_type": "execute_result"
    }
   ],
   "source": [
    "runs1"
   ]
  },
  {
   "cell_type": "code",
   "execution_count": null,
   "metadata": {},
   "outputs": [],
   "source": []
  }
 ],
 "metadata": {
  "kernelspec": {
   "display_name": "Python [conda env:utilities-env]",
   "language": "python",
   "name": "conda-env-utilities-env-py"
  },
  "language_info": {
   "codemirror_mode": {
    "name": "ipython",
    "version": 3
   },
   "file_extension": ".py",
   "mimetype": "text/x-python",
   "name": "python",
   "nbconvert_exporter": "python",
   "pygments_lexer": "ipython3",
   "version": "3.6.6"
  }
 },
 "nbformat": 4,
 "nbformat_minor": 2
}
